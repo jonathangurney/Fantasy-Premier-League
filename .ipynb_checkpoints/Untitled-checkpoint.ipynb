{
 "cells": [
  {
   "cell_type": "code",
   "execution_count": 107,
   "id": "d9452123",
   "metadata": {},
   "outputs": [],
   "source": [
    "# Import the required libraries\n",
    "\n",
    "from collections import Counter\n",
    "import bs4\n",
    "from io import StringIO\n",
    "import matplotlib.pyplot as plt\n",
    "import numpy as np\n",
    "import pandas as pd\n",
    "import random\n",
    "import requests\n",
    "from statsmodels.tsa.stattools import acf, pacf\n",
    "from statsmodels.graphics.tsaplots import plot_acf, plot_pacf"
   ]
  },
  {
   "cell_type": "code",
   "execution_count": 2,
   "id": "d0446f58",
   "metadata": {},
   "outputs": [],
   "source": [
    "###################################################\n",
    "#\n",
    "# Begin by examining the effectiveness of a time series model. This will involve checking for autocorrelation in the statistics.\n",
    "# If this approach does not seem promising, exploration of a factor-based model may result in improvement.\n",
    "#\n",
    "# The data is split across data sets for each season. Data manipulation is necessary to coerce the data into the desired form.\n",
    "#\n",
    "###################################################"
   ]
  },
  {
   "cell_type": "code",
   "execution_count": 3,
   "id": "f51543af",
   "metadata": {},
   "outputs": [],
   "source": [
    "# We begin by importing and examining the data from the 16-17 season.\n",
    "\n",
    "season1617_url = 'https://raw.githubusercontent.com/vaastav/Fantasy-Premier-League/master/data/2016-17/gws/merged_gw.csv'\n",
    "resp = requests.get(season1617_url)\n",
    "season1617_data = pd.read_csv(StringIO(resp.text), sep = ',', low_memory = False, index_col = 0)"
   ]
  },
  {
   "cell_type": "code",
   "execution_count": 59,
   "id": "ddca33c7",
   "metadata": {},
   "outputs": [
    {
     "name": "stdout",
     "output_type": "stream",
     "text": [
      "assists\n",
      "attempted_passes\n",
      "big_chances_created\n",
      "big_chances_missed\n",
      "bonus\n",
      "bps\n",
      "clean_sheets\n",
      "clearances_blocks_interceptions\n",
      "completed_passes\n",
      "creativity\n",
      "dribbles\n",
      "ea_index\n",
      "element\n",
      "errors_leading_to_goal\n",
      "errors_leading_to_goal_attempt\n",
      "fixture\n",
      "fouls\n",
      "goals_conceded\n",
      "goals_scored\n",
      "ict_index\n",
      "id\n",
      "influence\n",
      "key_passes\n",
      "kickoff_time\n",
      "kickoff_time_formatted\n",
      "loaned_in\n",
      "loaned_out\n",
      "minutes\n",
      "offside\n",
      "open_play_crosses\n",
      "opponent_team\n",
      "own_goals\n",
      "penalties_conceded\n",
      "penalties_missed\n",
      "penalties_saved\n",
      "recoveries\n",
      "red_cards\n",
      "round\n",
      "saves\n",
      "selected\n",
      "tackled\n",
      "tackles\n",
      "target_missed\n",
      "team_a_score\n",
      "team_h_score\n",
      "threat\n",
      "total_points\n",
      "transfers_balance\n",
      "transfers_in\n",
      "transfers_out\n",
      "value\n",
      "was_home\n",
      "winning_goals\n",
      "yellow_cards\n",
      "GW\n"
     ]
    }
   ],
   "source": [
    "# Make a note of the columns in the data frame.\n",
    "for col_name in season1617_data.columns:\n",
    "    print(col_name)\n",
    "\n",
    "# Determine the dimensions of the data\n",
    "nrow = len(season1617_data)\n",
    "ncol = len(season1617_data.columns)\n",
    "\n",
    "# Determine the number of players featuring in the data set\n",
    "n_players = season1617_data.index.nunique()"
   ]
  },
  {
   "cell_type": "code",
   "execution_count": 94,
   "id": "4a3c93e9",
   "metadata": {},
   "outputs": [
    {
     "name": "stdout",
     "output_type": "stream",
     "text": [
      "Percentage = 85.07%\n"
     ]
    },
    {
     "data": {
      "image/png": "[encoded data removed]",
      "text/plain": [
       "<Figure size 432x288 with 1 Axes>"
      ]
     },
     "metadata": {
      "needs_background": "light"
     },
     "output_type": "display_data"
    }
   ],
   "source": [
    "# Create vector showing the number of times each player features in the data set\n",
    "name_counts = season1617_data.value_counts('name')\n",
    "\n",
    "# Plot histogram of number of times each player features in the data set\n",
    "plt.hist(name_counts, bins = 38, range = [1, 39])\n",
    "\n",
    "# Check what percentage of players feature in all 38 matches over the season\n",
    "print('Percentage = {:.2f}%'.format(100 * sum(name_counts >= 35)/n_players))"
   ]
  },
  {
   "cell_type": "code",
   "execution_count": 37,
   "id": "016e5196",
   "metadata": {},
   "outputs": [
    {
     "data": {
      "text/plain": [
       "True"
      ]
     },
     "execution_count": 37,
     "metadata": {},
     "output_type": "execute_result"
    }
   ],
   "source": [
    "# Check if 'round' and 'GW' are the same\n",
    "all(season1617_data['round'] == season1617_data['GW'])"
   ]
  },
  {
   "cell_type": "code",
   "execution_count": 228,
   "id": "c7a6acf9",
   "metadata": {},
   "outputs": [],
   "source": [
    "# Make kickoff_time a datetime object\n",
    "season1617_data['kickoff_time'] = pd.to_datetime(season1617_data['kickoff_time'])\n",
    "\n",
    "# Sort data frame into according to kickoff_time\n",
    "season1617_data.sort_values(by = 'kickoff_time', inplace = True)"
   ]
  },
  {
   "cell_type": "code",
   "execution_count": 234,
   "id": "11828b7c",
   "metadata": {},
   "outputs": [],
   "source": [
    "# Load the results dataset\n",
    "season1617_results = pd.read_csv('./Data/results_data/premier_league_16_17_results.csv', encoding = 'ansi')"
   ]
  },
  {
   "cell_type": "code",
   "execution_count": 229,
   "id": "72ab5b4b",
   "metadata": {},
   "outputs": [],
   "source": [
    "# Group the statistics by player\n",
    "name_groupby = season1617_data.groupby('name')"
   ]
  },
  {
   "cell_type": "code",
   "execution_count": 232,
   "id": "3e6a98b2",
   "metadata": {},
   "outputs": [
    {
     "data": {
      "text/plain": [
       "'C:\\\\Users\\\\jonat\\\\OneDrive\\\\Documents\\\\Projects\\\\Fantasy Premier League'"
      ]
     },
     "execution_count": 232,
     "metadata": {},
     "output_type": "execute_result"
    }
   ],
   "source": []
  }
 ],
 "metadata": {
  "kernelspec": {
   "display_name": "Python 3 (ipykernel)",
   "language": "python",
   "name": "python3"
  },
  "language_info": {
   "codemirror_mode": {
    "name": "ipython",
    "version": 3
   },
   "file_extension": ".py",
   "mimetype": "text/x-python",
   "name": "python",
   "nbconvert_exporter": "python",
   "pygments_lexer": "ipython3",
   "version": "3.9.12"
  }
 },
 "nbformat": 4,
 "nbformat_minor": 5
}
